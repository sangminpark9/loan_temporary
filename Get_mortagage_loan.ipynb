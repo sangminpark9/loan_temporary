{
  "cells": [
    {
      "cell_type": "code",
      "execution_count": 4,
      "metadata": {
        "id": "HraaKTj26z57"
      },
      "outputs": [],
      "source": [
        "import requests\n",
        "import pandas as pd\n",
        "from datetime import datetime"
      ]
    },
    {
      "cell_type": "code",
      "execution_count": 5,
      "metadata": {
        "id": "RKaZ7-nc7MzT"
      },
      "outputs": [],
      "source": [
        "def get_mortgage_loan_products(api_key, merge_df=False):\n",
        "    \"\"\"\n",
        "    금융감독원 주택담보대출 상품 정보를 가져와서 DataFrame으로 변환하는 함수\n",
        "\n",
        "    Parameters:\n",
        "        api_key (str): 금융감독원 API 인증키\n",
        "        merge_df (bool): DataFrame 병합 여부 (True: 단일 DataFrame 반환, False: 기본/옵션 정보 별도 반환)\n",
        "\n",
        "    Returns:\n",
        "        DataFrame 또는 tuple: merge_df 값에 따라 단일 DataFrame 또는 (기본정보 DataFrame, 옵션정보 DataFrame) 반환\n",
        "    \"\"\"\n",
        "\n",
        "    base_url = \"http://finlife.fss.or.kr/finlifeapi/mortgageLoanProductsSearch.json\"\n",
        "    params = {\n",
        "        \"auth\": api_key,\n",
        "        \"topFinGrpNo\": \"020000\",\n",
        "        \"pageNo\": \"1\"\n",
        "    }\n",
        "\n",
        "    try:\n",
        "        response = requests.get(base_url, params=params)\n",
        "        response.raise_for_status()\n",
        "        data = response.json()\n",
        "\n",
        "        base_list = data.get('result', {}).get('baseList', [])\n",
        "        option_list = data.get('result', {}).get('optionList', [])\n",
        "\n",
        "        df_base = pd.DataFrame(base_list)\n",
        "        df_option = pd.DataFrame(option_list)\n",
        "\n",
        "        # 기본 정보 컬럼명 한글로 변경\n",
        "        base_column_mapping = {\n",
        "            'fin_co_no': '금융회사코드',\n",
        "            'kor_co_nm': '금융회사명',\n",
        "            'fin_prdt_cd': '금융상품코드',\n",
        "            'fin_prdt_nm': '금융상품명',\n",
        "            'join_way': '가입방법',\n",
        "            'loan_inci_expn': '대출부대비용',\n",
        "            'erly_rpay_fee': '중도상환수수료',\n",
        "            'dly_rate': '연체이자율',\n",
        "            'loan_lmt': '대출한도',\n",
        "            'dcls_strt_day': '공시시작일',\n",
        "            'dcls_end_day': '공시종료일'\n",
        "        }\n",
        "\n",
        "        # 옵션 정보 컬럼명 한글로 변경\n",
        "        option_column_mapping = {\n",
        "            'fin_co_no': '금융회사코드',\n",
        "            'fin_prdt_cd': '금융상품코드',\n",
        "            'mrtg_type': '담보유형코드',\n",
        "            'mrtg_type_nm': '담보유형',\n",
        "            'rpay_type': '대출상환유형코드',\n",
        "            'rpay_type_nm': '대출상환유형',\n",
        "            'lend_rate_type': '금리구분코드',\n",
        "            'lend_rate_type_nm': '금리구분',\n",
        "            'lend_rate_min': '금리_최저',\n",
        "            'lend_rate_max': '금리_최고',\n",
        "            'lend_rate_avg': '금리_평균'\n",
        "        }\n",
        "\n",
        "        df_base = df_base.rename(columns=base_column_mapping)\n",
        "        df_option = df_option.rename(columns=option_column_mapping)\n",
        "\n",
        "        # 날짜 데이터 처리\n",
        "        df_base['공시시작일'] = pd.to_datetime(df_base['공시시작일'], format='%Y%m%d', errors='coerce')\n",
        "        df_base['공시종료일'] = pd.to_datetime(df_base['공시종료일'], format='%Y%m%d', errors='coerce')\n",
        "\n",
        "        # 현재 유효한 상품 표시\n",
        "        current_date = pd.Timestamp.now()\n",
        "        df_base['현재유효여부'] = (\n",
        "            (df_base['공시시작일'] <= current_date) &\n",
        "            ((df_base['공시종료일'].isna()) | (df_base['공시종료일'] >= current_date))\n",
        "        )\n",
        "\n",
        "        # 숫자형 데이터 처리\n",
        "        numeric_columns = ['금리_최저', '금리_최고', '금리_평균']\n",
        "        df_option[numeric_columns] = df_option[numeric_columns].apply(pd.to_numeric, errors='coerce')\n",
        "\n",
        "        if merge_df:\n",
        "            # DataFrame 병합\n",
        "            df_merged = pd.merge(\n",
        "                df_base,\n",
        "                df_option,\n",
        "                on=['금융회사코드', '금융상품코드'],\n",
        "                how='left'\n",
        "            )\n",
        "\n",
        "            # 컬럼 순서 재정렬\n",
        "            column_order = [\n",
        "                '금융회사명', '금융상품명', '담보유형', '대출상환유형',\n",
        "                '금리구분', '금리_최저', '금리_최고', '금리_평균',\n",
        "                '대출한도', '대출부대비용', '중도상환수수료', '연체이자율',\n",
        "                '가입방법', '공시시작일', '공시종료일', '현재유효여부',\n",
        "                '금융회사코드', '금융상품코드', '담보유형코드', '대출상환유형코드', '금리구분코드'\n",
        "            ]\n",
        "\n",
        "            # 존재하는 컬럼만 선택\n",
        "            final_columns = [col for col in column_order if col in df_merged.columns]\n",
        "            df_merged = df_merged[final_columns]\n",
        "\n",
        "            return df_merged\n",
        "\n",
        "        return df_base, df_option\n",
        "\n",
        "    except requests.exceptions.RequestException as e:\n",
        "        print(f\"API 요청 중 오류 발생: {e}\")\n",
        "        return None\n",
        "    except Exception as e:\n",
        "        print(f\"데이터 처리 중 오류 발생: {e}\")\n",
        "        return None"
      ]
    },
    {
      "cell_type": "code",
      "execution_count": 6,
      "metadata": {
        "colab": {
          "base_uri": "https://localhost:8080/"
        },
        "id": "PFFUBgAE7VmN",
        "outputId": "f88240b2-9603-4044-8c32-25b0a79d2166"
      },
      "outputs": [
        {
          "name": "stdout",
          "output_type": "stream",
          "text": [
            "데이터 수집 완료\n",
            "총 상품 수: 120\n",
            "\n",
            "=== 데이터 미리보기 ===\n",
            "  금융회사명   금융상품명  담보유형  금리_최저  금리_최고  현재유효여부\n",
            "0  우리은행  우리아파트론   아파트   4.46   5.66    True\n",
            "1  우리은행  우리아파트론   아파트   5.26   6.46    True\n",
            "2  우리은행  우리아파트론   아파트   5.06   6.16    True\n",
            "3  우리은행  우리부동산론  아파트외   4.66   5.86    True\n",
            "4  우리은행  우리부동산론  아파트외   5.26   6.46    True\n"
          ]
        }
      ],
      "source": [
        "API_KEY = \"\"  # 발급받은 API 키를 입력하세요\n",
        "\n",
        "    # 단일 DataFrame으로 받기\n",
        "df = get_mortgage_loan_products(API_KEY, merge_df=True)\n",
        "\n",
        "if df is not None:\n",
        "    print(\"데이터 수집 완료\")\n",
        "    print(f\"총 상품 수: {len(df)}\")\n",
        "    print(\"\\n=== 데이터 미리보기 ===\")\n",
        "    print(df[['금융회사명', '금융상품명', '담보유형', '금리_최저', '금리_최고', '현재유효여부']].head())\n",
        "\n",
        "    # 데이터 저장\n",
        "    # df.to_csv('mortgage_loan_full.csv', index=False, encoding='utf-8-sig')"
      ]
    },
    {
      "cell_type": "code",
      "execution_count": null,
      "metadata": {
        "id": "DN7-4TVw7WBl"
      },
      "outputs": [],
      "source": [
        "# 사용 예시:\n",
        "\"\"\"\n",
        "# 1. 기본정보와 옵션정보를 별도로 받기\n",
        "df_base, df_option = get_mortgage_loan_products(API_KEY, merge_df=False)\n",
        "\n",
        "# 2. 하나의 DataFrame으로 받기\n",
        "df = get_mortgage_loan_products(API_KEY, merge_df=True)\n",
        "\n",
        "# 3. 데이터 분석 예시\n",
        "# 금융회사별 평균 금리 확인\n",
        "print(df.groupby('금융회사명')[['금리_최저', '금리_최고', '금리_평균']].mean())\n",
        "\n",
        "# 담보유형별 상품 수 확인\n",
        "print(df.groupby('담보유형')['금융상품명'].count())\n",
        "\n",
        "# 현재 유효한 상품만 필터링\n",
        "active_products = df[df['현재유효여부']]\n",
        "\"\"\""
      ]
    }
  ],
  "metadata": {
    "colab": {
      "provenance": []
    },
    "kernelspec": {
      "display_name": "Python 3",
      "name": "python3"
    },
    "language_info": {
      "name": "python"
    }
  },
  "nbformat": 4,
  "nbformat_minor": 0
}
